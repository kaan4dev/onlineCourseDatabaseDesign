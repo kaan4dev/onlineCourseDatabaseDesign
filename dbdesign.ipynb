{
 "cells": [
  {
   "cell_type": "markdown",
   "metadata": {},
   "source": [
    "## Requirements"
   ]
  },
  {
   "cell_type": "markdown",
   "metadata": {},
   "source": [
    "1. The website offers many courses that many students can enrol in, and a student can enrol in many courses.\n",
    "2. A student can create an account by providing their email address and a password.\n",
    "3. Each course has a name, a description, and a price in US Dollars.\n",
    "4. A student can enrol in a course by purchasing it. The date and time of enrolment is captured. The payment details are handled by an external system and do not need to be stored on this website.\n",
    "5. A course can have multiple modules, where each module has a name and a number.\n",
    "6. A module can have multiple lessons, where each lesson has a name and a number.\n",
    "7. Each lesson has a video and can show text on the page to describe the lesson and link to more resources.\n",
    "8. A course can be set so that the student must complete a lesson before proceeding to the next lesson. \n",
    "9. A course can contain quizzes, which can be at any point in the course. A quiz has multiple questions, and the questions are multiple-choice.\n",
    "10. A quiz has a minimum passing score, and the student has to achieve that score in the quiz in order to be granted a pass.\n",
    "11. A quiz can be set so that either a student must pass the quiz before proceeding, or the student can proceed even if they don't pass the quiz.\n",
    "12. A lesson can be marked as completed so that the student can see how many lessons they have completed and the percentage complete of the course.\n",
    "13. When a student completes a course, the website captures the date and time the course was completed. "
   ]
  },
  {
   "cell_type": "markdown",
   "metadata": {},
   "source": [
    "#### My Table"
   ]
  },
  {
   "cell_type": "code",
   "execution_count": null,
   "metadata": {
    "vscode": {
     "languageId": "plaintext"
    }
   },
   "outputs": [],
   "source": [
    "Table Course \n",
    "{\n",
    "  courseID integer [primary key]\n",
    "  studentID integer\n",
    "  courseName varchar\n",
    "  courseDescription varchar\n",
    "  coursePrice double\n",
    "}\n",
    "\n",
    "Table Student \n",
    "{\n",
    "  studentID integer [primary key]\n",
    "  email varchar \n",
    "  password varchar\n",
    "  \n",
    "}\n",
    "\n",
    "Table StudentLesson\n",
    "{\n",
    "  studentID integer\n",
    "  courseLessonID integer  \n",
    "}\n",
    "\n",
    "Table Payment\n",
    "{\n",
    "  paymentID integer [primary key]\n",
    "  studentID integer\n",
    "  courseID integer\n",
    "  paymentDateTime timestamp\n",
    "}\n",
    "\n",
    "Table CourseModule\n",
    "{\n",
    "  courseModuleID integer [primary key]\n",
    "  courseID integer\n",
    "  courseModuleName varchar\n",
    "  courseModuleNumber integer\n",
    "  isCourseDone bool\n",
    "}\n",
    "\n",
    "Table CourseModuleLesson\n",
    "{\n",
    "  courseModuleLessonID integer [primary key]\n",
    "  courseModuleID integer\n",
    "  courseModuleLessonName varchar\n",
    "  courseModuleLessonNumber integer\n",
    "  videoURL varchar\n",
    "  lessonDescription varchar\n",
    "  courseOrder integer\n",
    "}\n",
    "\n",
    "Table Quiz\n",
    "{\n",
    "  quizID integer [primary key]\n",
    "  courseID integer\n",
    "  quizName varchar\n",
    "  quizNumber integer\n",
    "  courseOrder integer\n",
    "  minimumPassScore integer \n",
    "  isPassRequired bool\n",
    "}\n",
    "\n",
    "Table QuizAttempted\n",
    "{\n",
    "  studentID integer\n",
    "  quizID integer\n",
    "  attemptDateTime timestamp\n",
    "  score integer\n",
    "}\n",
    "\n",
    "\n",
    "\n",
    "Ref: Course.studentID <> Student.studentID\n",
    "Ref: Payment.studentID > Student.studentID\n",
    "Ref: Payment.courseID > Course.courseID\n",
    "Ref: CourseModule.courseID > Course.courseID\n",
    "Ref: CourseModule.courseModuleID < CourseModuleLesson.courseModuleID\n",
    "Ref: Quiz.courseID > Course.courseID\n",
    "Ref: StudentLesson.studentID < Student.studentID\n",
    "Ref: StudentLesson.courseLessonID < CourseModuleLesson.courseModuleLessonID\n",
    "Ref: QuizAttempted.quizID > Quiz.quizID\n",
    "Ref: Student.studentID < QuizAttempted.studentID"
   ]
  }
 ],
 "metadata": {
  "language_info": {
   "name": "python"
  }
 },
 "nbformat": 4,
 "nbformat_minor": 2
}
